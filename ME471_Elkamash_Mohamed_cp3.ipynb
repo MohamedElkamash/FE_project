{
 "cells": [
  {
   "cell_type": "markdown",
   "metadata": {},
   "source": [
    "# Libraries"
   ]
  },
  {
   "cell_type": "code",
   "execution_count": 23,
   "metadata": {},
   "outputs": [],
   "source": [
    "import numpy as np\n",
    "import matplotlib.pyplot as plt"
   ]
  },
  {
   "cell_type": "markdown",
   "metadata": {},
   "source": [
    "# Quadrature Points"
   ]
  },
  {
   "cell_type": "code",
   "execution_count": null,
   "metadata": {},
   "outputs": [],
   "source": [
    "quad_points = np.array([1/3, 1/3], [-1/3, 1/3], [-1/3, -1/3], [1/3, -1/3])\n",
    "w = np.array([1,1])"
   ]
  },
  {
   "cell_type": "markdown",
   "metadata": {},
   "source": [
    "# Shape Functions"
   ]
  },
  {
   "cell_type": "code",
   "execution_count": null,
   "metadata": {},
   "outputs": [],
   "source": [
    "def evaluate_N(xi, eta):\n",
    "    n = np.zeros(4)\n",
    "    n[0] = (1+xi)*(1+eta)/4\n",
    "    n[1] = (1-xi)*(1+eta)/4\n",
    "    n[2] = (1-xi)*(1-eta)/4\n",
    "    n[3] = (1+xi)*(1-eta)/4\n",
    "    return n\n",
    "\n",
    "def evaluate_dN_d_xi(xi, eta):\n",
    "    v = np.zeros(4)\n",
    "    v[0] = (1+eta)/4\n",
    "    v[1] = (-1-eta)/4\n",
    "    v[2] = (-1+eta)/4\n",
    "    v[3] = (1-eta)/4\n",
    "    return v\n",
    "\n",
    "def evaluate_dN_d_eta(xi, eta):\n",
    "    v = np.zeros(4)\n",
    "    v[0] = (1+xi)/4\n",
    "    v[1] = (1-xi)/4\n",
    "    v[2] = (-1+xi)/4\n",
    "    v[3] = (-1-xi)/4\n",
    "    return v"
   ]
  },
  {
   "cell_type": "markdown",
   "metadata": {},
   "source": [
    "# Shape Functions Evaluation"
   ]
  },
  {
   "cell_type": "code",
   "execution_count": null,
   "metadata": {},
   "outputs": [],
   "source": [
    "for quad_point in quad_points:"
   ]
  },
  {
   "cell_type": "markdown",
   "metadata": {},
   "source": [
    "# Classes"
   ]
  },
  {
   "cell_type": "code",
   "execution_count": 24,
   "metadata": {},
   "outputs": [],
   "source": [
    "class Node:\n",
    "    def __init__(self, id, x, y, ux=None, uy=None, rx=0, ry=0):\n",
    "        self.id = id\n",
    "        self.x  = x\n",
    "        self.y  = y\n",
    "        self.ux  = ux\n",
    "        self.uy  = uy\n",
    "        self.rx  = rx\n",
    "        self.ry  = ry\n",
    "    \n",
    "    def __repr__(self):\n",
    "        return f\"Node({self.id}, x={self.x}, y={self.y}, ux={self.ux}, uy={self.uy}, rx={self.rx}, ry={self.ry})\""
   ]
  },
  {
   "cell_type": "code",
   "execution_count": null,
   "metadata": {},
   "outputs": [],
   "source": [
    "class Element:\n",
    "    def __init__(self, id, nodes):\n",
    "        self.id = id\n",
    "        self.nodes = nodes\n",
    "    \n",
    "    def coordinates(self):\n",
    "        return np.array([(node.x, node.y) for node in self.nodes])\n",
    "\n",
    "    def J(self, xi, eta):\n",
    "        #define jacobian matrix at quadrature point i, j\n",
    "        j = np.zeros([2,2])\n",
    "        #get coordinates of the nodes \n",
    "        coords = self.coordinates()\n",
    "        x = coords[:,0]\n",
    "        y = coords[:,1]\n",
    "        j[0][0] = np.dot(x,)\n",
    "\n",
    "\n",
    "    # def __repr__(self):\n",
    "    #     node_ids = [node.id for node in self.nodes]  \n",
    "    #     return f\"Element(id={self.id}, nodes={node_ids})\"\n",
    "    \n",
    "    \n",
    "\n",
    "\n",
    "    # def\n",
    "    \n",
    "    # def area(self):\n",
    "    #     # Use stored coords\n",
    "    #     area_array = np.array([\n",
    "    #         [1, self.coords[0, 0], self.coords[0, 1]],\n",
    "    #         [1, self.coords[1, 0], self.coords[1, 1]],\n",
    "    #         [1, self.coords[2, 0], self.coords[2, 1]]\n",
    "    #     ])\n",
    "    #     return 0.5 * np.abs(np.linalg.det(area_array))\n",
    "    \n",
    "    # def B(self):\n",
    "    #     b1 = self.coords[1, 1] - self.coords[2, 1]\n",
    "    #     b2 = self.coords[2, 1] - self.coords[0, 1]\n",
    "    #     b3 = self.coords[0, 1] - self.coords[1, 1]\n",
    "    #     c1 = self.coords[2, 0] - self.coords[1, 0]\n",
    "    #     c2 = self.coords[0, 0] - self.coords[2, 0]\n",
    "    #     c3 = self.coords[1, 0] - self.coords[0, 0]\n",
    "    #     return np.array([[b1, b2, b3], [c1, c2, c3]])\n",
    "    \n",
    "    # def localStiffnessMatrix(self):\n",
    "    #     return k * 1 / (4 * self.area()) * self.B().T @ self.B()"
   ]
  },
  {
   "cell_type": "code",
   "execution_count": 46,
   "metadata": {},
   "outputs": [],
   "source": [
    "class Mesh:\n",
    "    def read_node_list(self, file_path):\n",
    "        nodes = []\n",
    "        node_section = False  # Flag to check if we are in the *Node section\n",
    "        with open(file_path, 'r') as file:\n",
    "            for line in file:\n",
    "                line = line.strip()\n",
    "                # Check for the start of the *Node section\n",
    "                if line.startswith('*Node'):\n",
    "                    node_section = True\n",
    "                    continue  # Skip the line that contains *Node header\n",
    "                # Start of element section, stop reading node\n",
    "                if node_section and line.startswith('*Element'): \n",
    "                    node_section = False\n",
    "                    break\n",
    "                # Skip the line if it is not a node data line\n",
    "                if not line or line.startswith('*') or not line[0].isdigit():\n",
    "                    continue\n",
    "                # If we are in the *Node section, process the node data\n",
    "                node_data = line.split(',')\n",
    "                node_id = int(node_data[0].strip())\n",
    "                x = float(node_data[1].strip())\n",
    "                y = float(node_data[2].strip())\n",
    "                # Create Node object and append to the list\n",
    "                node = Node(node_id, x, y)\n",
    "                nodes.append(node)\n",
    "        return nodes\n",
    "    \n",
    "    def read_element_list(self, file_path):\n",
    "        elements = []\n",
    "        element_section = False  # Flag to check if we are in the *Element section\n",
    "        with open(file_path, 'r') as file:\n",
    "            for line in file:\n",
    "                line = line.strip()\n",
    "                # Check for the start of the *Element section\n",
    "                if line.startswith('*Element'):\n",
    "                    element_section = True\n",
    "                    continue  # Skip the line that contains *Element header\n",
    "                # Stop reading elements\n",
    "                if element_section and line.startswith('*Nset'): \n",
    "                    element_section = False\n",
    "                    break\n",
    "                # Skip the line if it is not an element data line\n",
    "                if not line or line.startswith('*') or not line[0].isdigit() or not element_section:\n",
    "                    continue\n",
    "                # If we are in the *Element section, process the element data\n",
    "                element_data = line.split(',')\n",
    "                element_id = int(element_data[0].strip())\n",
    "                nodes = []\n",
    "                for i in range(1,5):\n",
    "                    node_id = int(element_data[i].strip())\n",
    "                    node_index = node_id - 1 #zero indexing shift\n",
    "                    nodes.append(self.nodes[node_index]) \n",
    "                # Create Element object and append to the list\n",
    "                element = Element(element_id, nodes)\n",
    "                elements.append(element)\n",
    "        return elements\n",
    "    \n",
    "    def __init__(self, file_path):\n",
    "        self.nodes = self.read_node_list(file_path)\n",
    "        self.elements = self.read_element_list(file_path)\n",
    "    \n",
    "    def plot_mesh(mesh, display_temp=False):\n",
    "        plt.figure(figsize=(8, 6))\n",
    "        \n",
    "        # Plot each element\n",
    "        for element in mesh.elements:\n",
    "            # Get the coordinates of the nodes\n",
    "            coords = np.array([(node.x, node.y) for node in element.nodes])\n",
    "            # Close the polygon by appending the first node again\n",
    "            coords = np.vstack([coords, coords[0]])\n",
    "            plt.plot(coords[:, 0], coords[:, 1], marker='o')\n",
    "\n",
    "        # #Plot boundary temperatures\n",
    "        # if display_temp == True:\n",
    "        #     for node_id, node in mesh.nodes.items():\n",
    "        #         temp = node.T\n",
    "        #         node = mesh.nodes[node_id]\n",
    "        #         plt.text(node.x, node.y, f'T={temp:.3g}', fontsize=9, ha='right')\n",
    "\n",
    "        # Set labels and title\n",
    "        plt.title('Finite Element Mesh')\n",
    "        plt.xlabel('x(m)')\n",
    "        plt.ylabel('y(m)')\n",
    "        plt.axis('equal')\n",
    "        plt.grid(True)\n",
    "        plt.show()"
   ]
  },
  {
   "cell_type": "markdown",
   "metadata": {},
   "source": [
    "# Mesh Generation"
   ]
  },
  {
   "cell_type": "code",
   "execution_count": 47,
   "metadata": {},
   "outputs": [
    {
     "data": {
      "image/png": "[encoded data removed]",
      "text/plain": [
       "<Figure size 800x600 with 1 Axes>"
      ]
     },
     "metadata": {},
     "output_type": "display_data"
    }
   ],
   "source": [
    "file_path = 'input.txt'  \n",
    "mesh = Mesh(file_path)\n",
    "mesh.plot_mesh()"
   ]
  },
  {
   "cell_type": "code",
   "execution_count": 50,
   "metadata": {},
   "outputs": [
    {
     "name": "stdout",
     "output_type": "stream",
     "text": [
      "[0. 0.]\n"
     ]
    }
   ],
   "source": [
    "element = mesh.elements[0]\n",
    "coords = element.coordinates()\n",
    "print(coords[0])"
   ]
  },
  {
   "cell_type": "markdown",
   "metadata": {},
   "source": [
    "# Assembly"
   ]
  },
  {
   "cell_type": "code",
   "execution_count": null,
   "metadata": {},
   "outputs": [],
   "source": [
    "#Global stiffness matrix and global load vector\n",
    "K_global = np.zeros((n_nodes, n_nodes))\n",
    "R_global = np.zeros(n_nodes)\n",
    "N_local_nodes = 3\n",
    "#loop over all elements\n",
    "for element in mesh.elements.values():\n",
    "    k_local = element.localStiffnessMatrix()\n",
    "    local_indices = [node.id - 1 for node in element.nodes] #adjust for zero indexing of global matrix\n",
    "\n",
    "    for i in range(N_local_nodes):\n",
    "        for j in range(N_local_nodes):\n",
    "            K_global[local_indices[i], local_indices[j]] += k_local[i,j]"
   ]
  },
  {
   "cell_type": "markdown",
   "metadata": {},
   "source": [
    "# Boundary Conditions"
   ]
  },
  {
   "cell_type": "code",
   "execution_count": null,
   "metadata": {},
   "outputs": [],
   "source": [
    "#Dirchlet\n",
    "n_dirichlet_nodes = len(boundary_temperatures)\n",
    "node_ids = np.arange(0, n_nodes)\n",
    "dirchlet_node_ids =  np.array(list(boundary_temperatures.keys())) - 1  #adjust for zero indexing\n",
    "non_dirichlet_node_ids = np.setdiff1d(node_ids, dirchlet_node_ids)\n",
    "n_dirchlet_node_ids = len(dirchlet_node_ids)\n",
    "n_interior_nodes = n_nodes - n_dirchlet_node_ids\n",
    "#reducing global stiffness matrix\n",
    "reduced_K_global = np.zeros((n_interior_nodes, n_interior_nodes))\n",
    "temporary_K_global = np.delete(K_global, dirchlet_node_ids, 0) #remove rows\n",
    "reduced_K_global = np.delete(temporary_K_global, dirchlet_node_ids, 1) #remove columns \n",
    "reduced_R_global = np.delete(R_global, dirchlet_node_ids)\n",
    "\n",
    "R_modifier = np.zeros(n_nodes)\n",
    "#modifying global load vector with boundary temperatures\n",
    "for node_id, temperature in boundary_temperatures.items():\n",
    "    node_id -= 1 #adjust for zero indexing\n",
    "    R_modifier += K_global[:,node_id] * temperature\n",
    "\n",
    "reduced_R_global -= np.delete(R_modifier, dirchlet_node_ids)"
   ]
  },
  {
   "cell_type": "markdown",
   "metadata": {},
   "source": [
    "# Solve"
   ]
  },
  {
   "cell_type": "code",
   "execution_count": null,
   "metadata": {},
   "outputs": [],
   "source": [
    "unkown_temperatures = np.linalg.solve(reduced_K_global, reduced_R_global) #solve for unkown temperatures\n",
    "#construct full temperature vector\n",
    "temperature = np.zeros(n_nodes)\n",
    "i = 0\n",
    "for node_id in non_dirichlet_node_ids:\n",
    "    temperature[node_id] = unkown_temperatures[i]\n",
    "    i += 1\n",
    "#add boundary temperatures to full temperature vector\n",
    "for node_id, boundary_temperature in boundary_temperatures.items():\n",
    "    node_id -= 1 #adjust for zero indexing\n",
    "    temperature[node_id] = boundary_temperature\n",
    "\n",
    "for node in mesh.nodes.values():\n",
    "    node.setTemperature(temperature[node.id-1])"
   ]
  },
  {
   "cell_type": "markdown",
   "metadata": {},
   "source": [
    "# Output"
   ]
  },
  {
   "cell_type": "code",
   "execution_count": null,
   "metadata": {},
   "outputs": [
    {
     "name": "stdout",
     "output_type": "stream",
     "text": [
      "Node ID    Temperature (degC)\n",
      "-------------------------\n",
      "1          200            \n",
      "2          200            \n",
      "3          200            \n",
      "4          142            \n",
      "5          142            \n",
      "6          142            \n",
      "7          142            \n",
      "8          83.3           \n",
      "9          83.3           \n",
      "10         83.3           \n",
      "11         25             \n",
      "12         25             \n",
      "13         25             \n",
      "14         25             \n"
     ]
    },
    {
     "data": {
      "image/png": "[encoded data removed]",
      "text/plain": [
       "<Figure size 800x600 with 1 Axes>"
      ]
     },
     "metadata": {},
     "output_type": "display_data"
    }
   ],
   "source": [
    "print(f\"{'Node ID':<10} {'Temperature (degC)':<15}\")\n",
    "print(\"-\" * 25)\n",
    "for node_id, node in mesh.nodes.items():\n",
    "    temp_formatted = f\"{mesh.nodes[node_id].T:.3g}\"  # .3g for 3 significant figures\n",
    "    print(f\"{node_id:<10} {temp_formatted:<15}\")\n",
    "mesh.plot_mesh(display_temp=True)"
   ]
  }
 ],
 "metadata": {
  "kernelspec": {
   "display_name": "base",
   "language": "python",
   "name": "python3"
  },
  "language_info": {
   "codemirror_mode": {
    "name": "ipython",
    "version": 3
   },
   "file_extension": ".py",
   "mimetype": "text/x-python",
   "name": "python",
   "nbconvert_exporter": "python",
   "pygments_lexer": "ipython3",
   "version": "3.10.14"
  }
 },
 "nbformat": 4,
 "nbformat_minor": 2
}
