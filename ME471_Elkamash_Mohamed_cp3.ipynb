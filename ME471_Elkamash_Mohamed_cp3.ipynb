{
 "cells": [
  {
   "cell_type": "markdown",
   "metadata": {},
   "source": [
    "# Libraries"
   ]
  },
  {
   "cell_type": "code",
   "execution_count": 448,
   "metadata": {},
   "outputs": [],
   "source": [
    "import numpy as np\n",
    "import matplotlib.pyplot as plt"
   ]
  },
  {
   "cell_type": "markdown",
   "metadata": {},
   "source": [
    "# Material Properties"
   ]
  },
  {
   "cell_type": "code",
   "execution_count": 449,
   "metadata": {},
   "outputs": [],
   "source": [
    "elastic_modulus = 1e9\n",
    "v = 0.3"
   ]
  },
  {
   "cell_type": "markdown",
   "metadata": {},
   "source": [
    "# Quadrature Points"
   ]
  },
  {
   "cell_type": "code",
   "execution_count": 450,
   "metadata": {},
   "outputs": [],
   "source": [
    "quad_points = np.array([[1/np.sqrt(3), 1/np.sqrt(3)], [-1/np.sqrt(3), 1/np.sqrt(3)], [-1/np.sqrt(3), -1/np.sqrt(3)], [1/np.sqrt(3), -1/np.sqrt(3)]])\n",
    "w = np.array([1,1,1,1])"
   ]
  },
  {
   "cell_type": "markdown",
   "metadata": {},
   "source": [
    "# Shape Functions"
   ]
  },
  {
   "cell_type": "code",
   "execution_count": 451,
   "metadata": {},
   "outputs": [],
   "source": [
    "def evaluate_N(xi, eta):\n",
    "    n = np.zeros(4)\n",
    "    n[0] = (1+xi)*(1+eta)/4\n",
    "    n[1] = (1-xi)*(1+eta)/4\n",
    "    n[2] = (1-xi)*(1-eta)/4\n",
    "    n[3] = (1+xi)*(1-eta)/4\n",
    "    return n\n",
    "\n",
    "def evaluate_dN_d_xi(xi, eta):\n",
    "    v = np.zeros(4)\n",
    "    v[0] = (1+eta)/4\n",
    "    v[1] = (-1-eta)/4\n",
    "    v[2] = (-1+eta)/4\n",
    "    v[3] = (1-eta)/4\n",
    "    return v\n",
    "\n",
    "def evaluate_dN_d_eta(xi, eta):\n",
    "    v = np.zeros(4)\n",
    "    v[0] = (1+xi)/4\n",
    "    v[1] = (1-xi)/4\n",
    "    v[2] = (-1+xi)/4\n",
    "    v[3] = (-1-xi)/4\n",
    "    return v"
   ]
  },
  {
   "cell_type": "code",
   "execution_count": 452,
   "metadata": {},
   "outputs": [],
   "source": [
    "n_quad = len(quad_points)\n",
    "N = np.zeros([n_quad, 4])\n",
    "dN_d_xi = np.zeros([n_quad, 4])\n",
    "dN_d_eta = np.zeros([n_quad, 4])\n",
    "for i in range(n_quad):\n",
    "    xi = quad_points[i][0]\n",
    "    eta = quad_points[i][1]\n",
    "    N[i] = evaluate_N(xi,eta)\n",
    "    dN_d_xi[i] = evaluate_dN_d_xi(xi,eta)\n",
    "    dN_d_eta[i] = evaluate_dN_d_eta(xi,eta)"
   ]
  },
  {
   "cell_type": "markdown",
   "metadata": {},
   "source": [
    "# Node Class"
   ]
  },
  {
   "cell_type": "code",
   "execution_count": 453,
   "metadata": {},
   "outputs": [],
   "source": [
    "class Node:\n",
    "    def __init__(self, id, x, y, ux=None, uy=None, rx=0, ry=0):\n",
    "        self.id = id\n",
    "        self.x  = x\n",
    "        self.y  = y\n",
    "        self.ux  = ux\n",
    "        self.uy  = uy\n",
    "        self.rx  = rx\n",
    "        self.ry  = ry\n",
    "    \n",
    "    def __repr__(self):\n",
    "        return f\"Node({self.id}, x={self.x}, y={self.y}, ux={self.ux}, uy={self.uy}, rx={self.rx}, ry={self.ry})\""
   ]
  },
  {
   "cell_type": "markdown",
   "metadata": {},
   "source": [
    "# Element Class"
   ]
  },
  {
   "cell_type": "code",
   "execution_count": 454,
   "metadata": {},
   "outputs": [],
   "source": [
    "class Element:\n",
    "    def __init__(self, id, nodes):\n",
    "        self.id = id\n",
    "        self.nodes = nodes\n",
    "\n",
    "    def __repr__(self):\n",
    "        node_ids = [node.id for node in self.nodes]  \n",
    "        return f\"Element(id={self.id}, nodes={node_ids})\"\n",
    "    \n",
    "    def coordinates(self):\n",
    "        return np.array([(node.x, node.y) for node in self.nodes])\n",
    "    \n",
    "    def compute_E(self):\n",
    "        E = np.zeros([3,3])\n",
    "        E[0][0] = 1-v\n",
    "        E[0][1] = v\n",
    "        E[0][2] = 0\n",
    "        E[1][0] = v\n",
    "        E[1][1] = 1-v\n",
    "        E[0][2] = 0\n",
    "        E[2][0] = 0\n",
    "        E[2][1] = 0\n",
    "        E[2][2] = (1-2*v)/2\n",
    "        E = E * elastic_modulus / ((1+v)*(1-2*v))\n",
    "        return E\n",
    "\n",
    "    def compute_J(self, i_quad):\n",
    "        #define jacobian matrix at quadrature point i, j\n",
    "        j = np.zeros([2,2])\n",
    "        #get coordinates of the nodes \n",
    "        coords = self.coordinates()\n",
    "        x = coords[:,0]\n",
    "        y = coords[:,1]\n",
    "        #compute jacobian matrix elements\n",
    "        j[0][0] = np.dot(x, dN_d_xi[i_quad])\n",
    "        j[0][1] = np.dot(y, dN_d_xi[i_quad])\n",
    "        j[1][0] = np.dot(x, dN_d_eta[i_quad])\n",
    "        j[1][1] = np.dot(y, dN_d_eta[i_quad])\n",
    "        return j\n",
    "\n",
    "    def compute_B(self, i_quad, J_inv):\n",
    "        dN = np.zeros([4,2]) #derivative matrix, size = n_shape * n_dims\n",
    "        for i in range(4): #loop over shape functions\n",
    "            mat = np.array([dN_d_xi[i_quad][i], dN_d_eta[i_quad][i]])\n",
    "            dN[i] = np.matmul(J_inv, mat)\n",
    "        B = np.zeros([3,8])\n",
    "        B[0][0] = dN[0][0]\n",
    "        B[0][2] = dN[1][0]\n",
    "        B[0][4] = dN[2][0]\n",
    "        B[0][6] = dN[3][0]\n",
    "        B[1][1] = dN[0][1]\n",
    "        B[1][3] = dN[1][1]\n",
    "        B[1][5] = dN[2][1]\n",
    "        B[1][7] = dN[3][1]\n",
    "        B[2][0] = dN[0][1]\n",
    "        B[2][1] = dN[0][0]\n",
    "        B[2][2] = dN[1][1]\n",
    "        B[2][3] = dN[1][0]\n",
    "        B[2][4] = dN[2][1]\n",
    "        B[2][5] = dN[2][0]\n",
    "        B[2][6] = dN[3][1]\n",
    "        B[2][7] = dN[3][0]\n",
    "        return B\n",
    "    \n",
    "    def localStiffnessMatrix(self):\n",
    "        k = 0\n",
    "        E = self.compute_E()\n",
    "        for i in range(n_quad):\n",
    "            J = self.compute_J(i)\n",
    "            J_inv = np.linalg.inv(J)\n",
    "            det_J = np.linalg.det(J)\n",
    "            B = self.compute_B(i, J_inv)\n",
    "            BT = np.transpose(B)\n",
    "            k += BT @ E @ B * det_J * w[i]\n",
    "        return k\n",
    "    "
   ]
  },
  {
   "cell_type": "markdown",
   "metadata": {},
   "source": [
    "# Mesh class"
   ]
  },
  {
   "cell_type": "code",
   "execution_count": 455,
   "metadata": {},
   "outputs": [],
   "source": [
    "class Mesh:\n",
    "    def read_node_list(self, file_path):\n",
    "        nodes = []\n",
    "        node_section = False  # Flag to check if we are in the *Node section\n",
    "        with open(file_path, 'r') as file:\n",
    "            for line in file:\n",
    "                line = line.strip()\n",
    "                # Check for the start of the *Node section\n",
    "                if line.startswith('*Node'):\n",
    "                    node_section = True\n",
    "                    continue  # Skip the line that contains *Node header\n",
    "                # Start of element section, stop reading node\n",
    "                if node_section and line.startswith('*Element'): \n",
    "                    node_section = False\n",
    "                    break\n",
    "                # Skip the line if it is not a node data line\n",
    "                if not line or line.startswith('*') or not line[0].isdigit():\n",
    "                    continue\n",
    "                # If we are in the *Node section, process the node data\n",
    "                node_data = line.split(',')\n",
    "                node_id = int(node_data[0].strip())\n",
    "                x = float(node_data[1].strip())\n",
    "                y = float(node_data[2].strip())\n",
    "                # Create Node object and append to the list\n",
    "                node = Node(node_id, x, y)\n",
    "                nodes.append(node)\n",
    "        return nodes\n",
    "    \n",
    "    def read_element_list(self, file_path):\n",
    "        elements = []\n",
    "        element_section = False  # Flag to check if we are in the *Element section\n",
    "        with open(file_path, 'r') as file:\n",
    "            for line in file:\n",
    "                line = line.strip()\n",
    "                # Check for the start of the *Element section\n",
    "                if line.startswith('*Element'):\n",
    "                    element_section = True\n",
    "                    continue  # Skip the line that contains *Element header\n",
    "                # Stop reading elements\n",
    "                if element_section and line.startswith('*Nset'): \n",
    "                    element_section = False\n",
    "                    break\n",
    "                # Skip the line if it is not an element data line\n",
    "                if not line or line.startswith('*') or not line[0].isdigit() or not element_section:\n",
    "                    continue\n",
    "                # If we are in the *Element section, process the element data\n",
    "                element_data = line.split(',')\n",
    "                element_id = int(element_data[0].strip())\n",
    "                nodes = []\n",
    "                for i in range(1,5):\n",
    "                    node_id = int(element_data[i].strip())\n",
    "                    node_index = node_id - 1 #zero indexing shift\n",
    "                    nodes.append(self.nodes[node_index]) \n",
    "                # Create Element object and append to the list\n",
    "                element = Element(element_id, nodes)\n",
    "                elements.append(element)\n",
    "        return elements\n",
    "    \n",
    "    def __init__(self, file_path):\n",
    "        self.nodes = self.read_node_list(file_path)\n",
    "        self.elements = self.read_element_list(file_path)\n",
    "    \n",
    "    def plot_mesh(mesh, display_temp=False):\n",
    "        plt.figure(figsize=(8, 6))\n",
    "        \n",
    "        # Plot each element\n",
    "        for element in mesh.elements:\n",
    "            # Get the coordinates of the nodes\n",
    "            coords = np.array([(node.x, node.y) for node in element.nodes])\n",
    "            # Close the polygon by appending the first node again\n",
    "            coords = np.vstack([coords, coords[0]])\n",
    "            plt.plot(coords[:, 0], coords[:, 1], marker='o')\n",
    "\n",
    "        # #Plot boundary temperatures\n",
    "        # if display_temp == True:\n",
    "        #     for node_id, node in mesh.nodes.items():\n",
    "        #         temp = node.T\n",
    "        #         node = mesh.nodes[node_id]\n",
    "        #         plt.text(node.x, node.y, f'T={temp:.3g}', fontsize=9, ha='right')\n",
    "\n",
    "        # Set labels and title\n",
    "        plt.title('Finite Element Mesh')\n",
    "        plt.xlabel('x(m)')\n",
    "        plt.ylabel('y(m)')\n",
    "        plt.axis('equal')\n",
    "        plt.grid(True)\n",
    "        plt.show()"
   ]
  },
  {
   "cell_type": "markdown",
   "metadata": {},
   "source": [
    "# Mesh Generation"
   ]
  },
  {
   "cell_type": "code",
   "execution_count": 456,
   "metadata": {},
   "outputs": [
    {
     "data": {
      "image/png": "[encoded data removed]",
      "text/plain": [
       "<Figure size 800x600 with 1 Axes>"
      ]
     },
     "metadata": {},
     "output_type": "display_data"
    }
   ],
   "source": [
    "file_path = 'input.txt'  \n",
    "mesh = Mesh(file_path)\n",
    "mesh.plot_mesh()"
   ]
  },
  {
   "cell_type": "code",
   "execution_count": 457,
   "metadata": {},
   "outputs": [
    {
     "name": "stdout",
     "output_type": "stream",
     "text": [
      "[[ 5.1e+08  2.4e+08 -2.5e+08  4.8e+07 -2.5e+08 -2.4e+08 -2.3e+06 -4.8e+07]\n",
      " [ 2.4e+08  6.9e+08 -4.8e+07  2.0e+08 -2.4e+08 -3.5e+08  4.8e+07 -5.5e+08]\n",
      " [-2.5e+08 -4.8e+07  5.1e+08 -2.4e+08 -2.3e+06  4.8e+07 -2.5e+08  2.4e+08]\n",
      " [ 4.8e+07  2.0e+08 -2.4e+08  6.9e+08 -4.8e+07 -5.5e+08  2.4e+08 -3.5e+08]\n",
      " [-2.5e+08 -2.4e+08 -2.3e+06 -4.8e+07  5.1e+08  2.4e+08 -2.5e+08  4.8e+07]\n",
      " [-2.4e+08 -3.5e+08  4.8e+07 -5.5e+08  2.4e+08  6.9e+08 -4.8e+07  2.0e+08]\n",
      " [-2.3e+06  4.8e+07 -2.5e+08  2.4e+08 -2.5e+08 -4.8e+07  5.1e+08 -2.4e+08]\n",
      " [-4.8e+07 -5.5e+08  2.4e+08 -3.5e+08  4.8e+07  2.0e+08 -2.4e+08  6.9e+08]]\n"
     ]
    }
   ],
   "source": [
    "element = mesh.elements[1]\n",
    "k = element.localStiffnessMatrix()\n",
    "np.set_printoptions(precision=1)\n",
    "print(k)"
   ]
  },
  {
   "cell_type": "markdown",
   "metadata": {},
   "source": [
    "# Assembly"
   ]
  },
  {
   "cell_type": "code",
   "execution_count": 464,
   "metadata": {},
   "outputs": [],
   "source": [
    "n_nodes = len(mesh.nodes)\n",
    "#Global stiffness matrix and global load vector\n",
    "K_global = np.zeros((2*n_nodes, 2*n_nodes))\n",
    "R_global = np.zeros(2*n_nodes)\n",
    "N_local_nodes = 4\n",
    "#loop over all elements\n",
    "for element in mesh.elements:\n",
    "    k_local = element.localStiffnessMatrix()\n",
    "    local_indices = [node.id - 1 for node in element.nodes] #adjust for zero indexing of global matrix\n",
    "    local_indices = np.multiply(2,local_indices) \n",
    "    local_indices = np.concatenate([np.arange(x, x+2) for x in local_indices]) #expand the indices for 2 dof\n",
    "    for i in range(2*N_local_nodes):\n",
    "        for j in range(2*N_local_nodes):\n",
    "            K_global[local_indices[i], local_indices[j]] += k_local[i,j]"
   ]
  },
  {
   "cell_type": "code",
   "execution_count": 465,
   "metadata": {},
   "outputs": [
    {
     "name": "stdout",
     "output_type": "stream",
     "text": [
      "[[ 5.1e+08  2.4e+08 -2.5e+08  4.8e+07  0.0e+00  0.0e+00  0.0e+00  0.0e+00\n",
      "   0.0e+00  0.0e+00  0.0e+00  0.0e+00 -2.5e+08 -2.4e+08 -2.3e+06 -4.8e+07\n",
      "   0.0e+00  0.0e+00  0.0e+00  0.0e+00]\n",
      " [ 2.4e+08  6.9e+08 -4.8e+07  2.0e+08  0.0e+00  0.0e+00  0.0e+00  0.0e+00\n",
      "   0.0e+00  0.0e+00  0.0e+00  0.0e+00 -2.4e+08 -3.5e+08  4.8e+07 -5.5e+08\n",
      "   0.0e+00  0.0e+00  0.0e+00  0.0e+00]\n",
      " [-2.5e+08 -4.8e+07  1.0e+09  0.0e+00 -2.5e+08  4.8e+07  0.0e+00  0.0e+00\n",
      "   0.0e+00  0.0e+00 -2.5e+08 -2.4e+08 -4.7e+06  0.0e+00 -2.5e+08  2.4e+08\n",
      "   0.0e+00  0.0e+00  0.0e+00  0.0e+00]\n",
      " [ 4.8e+07  2.0e+08  0.0e+00  1.4e+09 -4.8e+07  2.0e+08  0.0e+00  0.0e+00\n",
      "   0.0e+00  0.0e+00 -2.4e+08 -3.5e+08  7.5e-09 -1.1e+09  2.4e+08 -3.5e+08\n",
      "   0.0e+00  0.0e+00  0.0e+00  0.0e+00]\n",
      " [ 0.0e+00  0.0e+00 -2.5e+08 -4.8e+07  1.1e+09 -1.3e+08 -4.1e+08 -7.4e+06\n",
      "  -9.8e+07 -1.8e+08 -6.3e+07  1.3e+08 -2.5e+08  2.4e+08  0.0e+00  0.0e+00\n",
      "   0.0e+00  0.0e+00  0.0e+00  0.0e+00]\n",
      " [ 0.0e+00  0.0e+00  4.8e+07  2.0e+08 -1.3e+08  1.3e+09 -1.0e+08  7.4e+07\n",
      "  -1.8e+08 -2.2e+08  1.3e+08 -1.0e+09  2.4e+08 -3.5e+08  0.0e+00  0.0e+00\n",
      "   0.0e+00  0.0e+00  0.0e+00  0.0e+00]\n",
      " [ 0.0e+00  0.0e+00  0.0e+00  0.0e+00 -4.1e+08 -1.0e+08  8.4e+08 -3.3e+08\n",
      "   1.7e+08  1.4e+08 -6.0e+08  3.0e+08  0.0e+00  0.0e+00  0.0e+00  0.0e+00\n",
      "   0.0e+00  0.0e+00  0.0e+00  0.0e+00]\n",
      " [ 0.0e+00  0.0e+00  0.0e+00  0.0e+00 -7.4e+06  7.4e+07 -3.3e+08  5.6e+08\n",
      "   4.4e+07 -2.7e+08  3.0e+08 -3.6e+08  0.0e+00  0.0e+00  0.0e+00  0.0e+00\n",
      "   0.0e+00  0.0e+00  0.0e+00  0.0e+00]\n",
      " [ 0.0e+00  0.0e+00  0.0e+00  0.0e+00 -9.8e+07 -1.8e+08  1.7e+08  4.4e+07\n",
      "   6.4e+08  3.0e+08 -5.3e+08 -1.1e+08 -1.4e+08 -1.8e+08  0.0e+00  0.0e+00\n",
      "   0.0e+00  0.0e+00 -5.6e+07  1.4e+08]\n",
      " [ 0.0e+00  0.0e+00  0.0e+00  0.0e+00 -1.8e+08 -2.2e+08  1.4e+08 -2.7e+08\n",
      "   3.0e+08  8.8e+08 -1.1e+08 -7.2e+08 -1.8e+08 -1.0e+08  0.0e+00  0.0e+00\n",
      "   0.0e+00  0.0e+00  4.4e+07  4.3e+08]\n",
      " [ 0.0e+00  0.0e+00 -2.5e+08 -2.4e+08 -6.3e+07  1.3e+08 -6.0e+08  3.0e+08\n",
      "  -5.3e+08 -1.1e+08  2.3e+09 -5.0e+08 -4.8e+08  1.3e+08  0.0e+00  0.0e+00\n",
      "   0.0e+00  0.0e+00 -3.9e+08  3.0e+08]\n",
      " [ 0.0e+00  0.0e+00 -2.4e+08 -3.5e+08  1.3e+08 -1.0e+09  3.0e+08 -3.6e+08\n",
      "  -1.1e+08 -7.2e+08 -5.0e+08  3.2e+09  1.3e+08  2.6e+08  0.0e+00  0.0e+00\n",
      "   0.0e+00  0.0e+00  3.0e+08 -1.0e+09]\n",
      " [-2.5e+08 -2.4e+08 -4.7e+06 -7.5e-09 -2.5e+08  2.4e+08  0.0e+00  0.0e+00\n",
      "  -1.4e+08 -1.8e+08 -4.8e+08  1.3e+08  2.0e+09 -1.3e+08 -5.0e+08  7.5e-08\n",
      "  -2.5e+08  2.4e+08 -1.2e+08 -5.5e+07]\n",
      " [-2.4e+08 -3.5e+08  0.0e+00 -1.1e+09  2.4e+08 -3.5e+08  0.0e+00  0.0e+00\n",
      "  -1.8e+08 -1.0e+08  1.3e+08  2.6e+08 -1.3e+08  2.9e+09 -6.0e-08  4.1e+08\n",
      "   2.4e+08 -3.5e+08 -5.5e+07 -1.3e+09]\n",
      " [-2.3e+06  4.8e+07 -2.5e+08  2.4e+08  0.0e+00  0.0e+00  0.0e+00  0.0e+00\n",
      "   0.0e+00  0.0e+00  0.0e+00  0.0e+00 -5.0e+08 -6.7e-08  1.0e+09 -3.3e-07\n",
      "  -2.3e+06 -4.8e+07 -2.5e+08 -2.4e+08]\n",
      " [-4.8e+07 -5.5e+08  2.4e+08 -3.5e+08  0.0e+00  0.0e+00  0.0e+00  0.0e+00\n",
      "   0.0e+00  0.0e+00  0.0e+00  0.0e+00  6.7e-08  4.1e+08 -3.3e-07  1.4e+09\n",
      "   4.8e+07 -5.5e+08 -2.4e+08 -3.5e+08]\n",
      " [ 0.0e+00  0.0e+00  0.0e+00  0.0e+00  0.0e+00  0.0e+00  0.0e+00  0.0e+00\n",
      "   0.0e+00  0.0e+00  0.0e+00  0.0e+00 -2.5e+08  2.4e+08 -2.3e+06  4.8e+07\n",
      "   5.1e+08 -2.4e+08 -2.5e+08 -4.8e+07]\n",
      " [ 0.0e+00  0.0e+00  0.0e+00  0.0e+00  0.0e+00  0.0e+00  0.0e+00  0.0e+00\n",
      "   0.0e+00  0.0e+00  0.0e+00  0.0e+00  2.4e+08 -3.5e+08 -4.8e+07 -5.5e+08\n",
      "  -2.4e+08  6.9e+08  4.8e+07  2.0e+08]\n",
      " [ 0.0e+00  0.0e+00  0.0e+00  0.0e+00  0.0e+00  0.0e+00  0.0e+00  0.0e+00\n",
      "  -5.6e+07  4.4e+07 -3.9e+08  3.0e+08 -1.2e+08 -5.5e+07 -2.5e+08 -2.4e+08\n",
      "  -2.5e+08  4.8e+07  1.1e+09 -9.2e+07]\n",
      " [ 0.0e+00  0.0e+00  0.0e+00  0.0e+00  0.0e+00  0.0e+00  0.0e+00  0.0e+00\n",
      "   1.4e+08  4.3e+08  3.0e+08 -1.0e+09 -5.5e+07 -1.3e+09 -2.4e+08 -3.5e+08\n",
      "  -4.8e+07  2.0e+08 -9.2e+07  2.1e+09]]\n"
     ]
    }
   ],
   "source": [
    "print(K_global)"
   ]
  },
  {
   "cell_type": "markdown",
   "metadata": {},
   "source": [
    "# Boundary Conditions"
   ]
  },
  {
   "cell_type": "code",
   "execution_count": null,
   "metadata": {},
   "outputs": [
    {
     "ename": "NameError",
     "evalue": "name 'boundary_temperatures' is not defined",
     "output_type": "error",
     "traceback": [
      "\u001b[0;31m---------------------------------------------------------------------------\u001b[0m",
      "\u001b[0;31mNameError\u001b[0m                                 Traceback (most recent call last)",
      "Cell \u001b[0;32mIn[460], line 2\u001b[0m\n\u001b[1;32m      1\u001b[0m \u001b[38;5;66;03m#Dirchlet\u001b[39;00m\n\u001b[0;32m----> 2\u001b[0m n_dirichlet_nodes \u001b[38;5;241m=\u001b[39m \u001b[38;5;28mlen\u001b[39m(\u001b[43mboundary_temperatures\u001b[49m)\n\u001b[1;32m      3\u001b[0m node_ids \u001b[38;5;241m=\u001b[39m np\u001b[38;5;241m.\u001b[39marange(\u001b[38;5;241m0\u001b[39m, n_nodes)\n\u001b[1;32m      4\u001b[0m dirchlet_node_ids \u001b[38;5;241m=\u001b[39m  np\u001b[38;5;241m.\u001b[39marray(\u001b[38;5;28mlist\u001b[39m(boundary_temperatures\u001b[38;5;241m.\u001b[39mkeys())) \u001b[38;5;241m-\u001b[39m \u001b[38;5;241m1\u001b[39m  \u001b[38;5;66;03m#adjust for zero indexing\u001b[39;00m\n",
      "\u001b[0;31mNameError\u001b[0m: name 'boundary_temperatures' is not defined"
     ]
    }
   ],
   "source": [
    "# #Dirchlet\n",
    "# n_dirichlet_nodes = len(boundary_temperatures)\n",
    "# node_ids = np.arange(0, n_nodes)\n",
    "# dirchlet_node_ids =  np.array(list(boundary_temperatures.keys())) - 1  #adjust for zero indexing\n",
    "# non_dirichlet_node_ids = np.setdiff1d(node_ids, dirchlet_node_ids)\n",
    "# n_dirchlet_node_ids = len(dirchlet_node_ids)\n",
    "# n_interior_nodes = n_nodes - n_dirchlet_node_ids\n",
    "# #reducing global stiffness matrix\n",
    "# reduced_K_global = np.zeros((n_interior_nodes, n_interior_nodes))\n",
    "# temporary_K_global = np.delete(K_global, dirchlet_node_ids, 0) #remove rows\n",
    "# reduced_K_global = np.delete(temporary_K_global, dirchlet_node_ids, 1) #remove columns \n",
    "# reduced_R_global = np.delete(R_global, dirchlet_node_ids)\n",
    "\n",
    "# R_modifier = np.zeros(n_nodes)\n",
    "# #modifying global load vector with boundary temperatures\n",
    "# for node_id, temperature in boundary_temperatures.items():\n",
    "#     node_id -= 1 #adjust for zero indexing\n",
    "#     R_modifier += K_global[:,node_id] * temperature\n",
    "\n",
    "# reduced_R_global -= np.delete(R_modifier, dirchlet_node_ids)"
   ]
  },
  {
   "cell_type": "code",
   "execution_count": null,
   "metadata": {},
   "outputs": [],
   "source": []
  },
  {
   "cell_type": "markdown",
   "metadata": {},
   "source": [
    "# Solve"
   ]
  },
  {
   "cell_type": "code",
   "execution_count": null,
   "metadata": {},
   "outputs": [],
   "source": [
    "unkown_temperatures = np.linalg.solve(reduced_K_global, reduced_R_global) #solve for unkown temperatures\n",
    "#construct full temperature vector\n",
    "temperature = np.zeros(n_nodes)\n",
    "i = 0\n",
    "for node_id in non_dirichlet_node_ids:\n",
    "    temperature[node_id] = unkown_temperatures[i]\n",
    "    i += 1\n",
    "#add boundary temperatures to full temperature vector\n",
    "for node_id, boundary_temperature in boundary_temperatures.items():\n",
    "    node_id -= 1 #adjust for zero indexing\n",
    "    temperature[node_id] = boundary_temperature\n",
    "\n",
    "for node in mesh.nodes.values():\n",
    "    node.setTemperature(temperature[node.id-1])"
   ]
  },
  {
   "cell_type": "markdown",
   "metadata": {},
   "source": [
    "# Output"
   ]
  },
  {
   "cell_type": "code",
   "execution_count": null,
   "metadata": {},
   "outputs": [
    {
     "name": "stdout",
     "output_type": "stream",
     "text": [
      "Node ID    Temperature (degC)\n",
      "-------------------------\n",
      "1          200            \n",
      "2          200            \n",
      "3          200            \n",
      "4          142            \n",
      "5          142            \n",
      "6          142            \n",
      "7          142            \n",
      "8          83.3           \n",
      "9          83.3           \n",
      "10         83.3           \n",
      "11         25             \n",
      "12         25             \n",
      "13         25             \n",
      "14         25             \n"
     ]
    },
    {
     "data": {
      "image/png": "[encoded data removed]",
      "text/plain": [
       "<Figure size 800x600 with 1 Axes>"
      ]
     },
     "metadata": {},
     "output_type": "display_data"
    }
   ],
   "source": [
    "print(f\"{'Node ID':<10} {'Temperature (degC)':<15}\")\n",
    "print(\"-\" * 25)\n",
    "for node_id, node in mesh.nodes.items():\n",
    "    temp_formatted = f\"{mesh.nodes[node_id].T:.3g}\"  # .3g for 3 significant figures\n",
    "    print(f\"{node_id:<10} {temp_formatted:<15}\")\n",
    "mesh.plot_mesh(display_temp=True)"
   ]
  }
 ],
 "metadata": {
  "kernelspec": {
   "display_name": "base",
   "language": "python",
   "name": "python3"
  },
  "language_info": {
   "codemirror_mode": {
    "name": "ipython",
    "version": 3
   },
   "file_extension": ".py",
   "mimetype": "text/x-python",
   "name": "python",
   "nbconvert_exporter": "python",
   "pygments_lexer": "ipython3",
   "version": "3.10.14"
  }
 },
 "nbformat": 4,
 "nbformat_minor": 2
}
