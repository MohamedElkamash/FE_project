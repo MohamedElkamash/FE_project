{
 "cells": [
  {
   "cell_type": "markdown",
   "metadata": {},
   "source": [
    "# Libraries"
   ]
  },
  {
   "cell_type": "code",
   "execution_count": 223,
   "metadata": {},
   "outputs": [],
   "source": [
    "import numpy as np\n",
    "import matplotlib.pyplot as plt"
   ]
  },
  {
   "cell_type": "markdown",
   "metadata": {},
   "source": [
    "# Material Properties"
   ]
  },
  {
   "cell_type": "code",
   "execution_count": 224,
   "metadata": {},
   "outputs": [],
   "source": [
    "elastic_modulus = 1e9\n",
    "v = 0.3"
   ]
  },
  {
   "cell_type": "markdown",
   "metadata": {},
   "source": [
    "# Quadrature Points"
   ]
  },
  {
   "cell_type": "code",
   "execution_count": 225,
   "metadata": {},
   "outputs": [],
   "source": [
    "quad_points = np.array([[1/np.sqrt(3), 1/np.sqrt(3)], [-1/np.sqrt(3), 1/np.sqrt(3)], \n",
    "                        [-1/np.sqrt(3), -1/np.sqrt(3)], [1/np.sqrt(3), -1/np.sqrt(3)]])\n",
    "w = np.array([1,1,1,1])"
   ]
  },
  {
   "cell_type": "markdown",
   "metadata": {},
   "source": [
    "# Shape Functions"
   ]
  },
  {
   "cell_type": "code",
   "execution_count": 226,
   "metadata": {},
   "outputs": [],
   "source": [
    "def evaluate_N(xi, eta):\n",
    "    n = np.zeros(4)\n",
    "    n[0] = (1+xi)*(1+eta)/4\n",
    "    n[1] = (1-xi)*(1+eta)/4\n",
    "    n[2] = (1-xi)*(1-eta)/4\n",
    "    n[3] = (1+xi)*(1-eta)/4\n",
    "    return n\n",
    "\n",
    "def evaluate_dN_d_xi(xi, eta):\n",
    "    v = np.zeros(4)\n",
    "    v[0] = (1+eta)/4\n",
    "    v[1] = (-1-eta)/4\n",
    "    v[2] = (-1+eta)/4\n",
    "    v[3] = (1-eta)/4\n",
    "    return v\n",
    "\n",
    "def evaluate_dN_d_eta(xi, eta):\n",
    "    v = np.zeros(4)\n",
    "    v[0] = (1+xi)/4\n",
    "    v[1] = (1-xi)/4\n",
    "    v[2] = (-1+xi)/4\n",
    "    v[3] = (-1-xi)/4\n",
    "    return v"
   ]
  },
  {
   "cell_type": "code",
   "execution_count": 227,
   "metadata": {},
   "outputs": [
    {
     "name": "stdout",
     "output_type": "stream",
     "text": [
      "[[0.62200847 0.16666667 0.0446582  0.16666667]\n",
      " [0.16666667 0.62200847 0.16666667 0.0446582 ]\n",
      " [0.0446582  0.16666667 0.62200847 0.16666667]\n",
      " [0.16666667 0.0446582  0.16666667 0.62200847]]\n"
     ]
    }
   ],
   "source": [
    "#evaluate shape functions and derivatives at quadrature points once and save them in memory to decrease runtime\n",
    "n_quad = len(quad_points)\n",
    "N = np.zeros([n_quad, 4])\n",
    "dN_d_xi = np.zeros([n_quad, 4])\n",
    "dN_d_eta = np.zeros([n_quad, 4])\n",
    "for i in range(n_quad):\n",
    "    xi = quad_points[i,0]\n",
    "    eta = quad_points[i,1]\n",
    "    N[i] = evaluate_N(xi,eta)\n",
    "    dN_d_xi[i] = evaluate_dN_d_xi(xi,eta)\n",
    "    dN_d_eta[i] = evaluate_dN_d_eta(xi,eta)\n",
    "\n",
    "print(N)"
   ]
  },
  {
   "cell_type": "markdown",
   "metadata": {},
   "source": [
    "# Node Class"
   ]
  },
  {
   "cell_type": "code",
   "execution_count": 228,
   "metadata": {},
   "outputs": [],
   "source": [
    "class Node:\n",
    "    def __init__(self, id, x, y):\n",
    "        self.id = id\n",
    "        self.x  = x\n",
    "        self.y  = y\n",
    "    \n",
    "    def __repr__(self):\n",
    "        return f\"Node({self.id}, x={self.x}, y={self.y})\""
   ]
  },
  {
   "cell_type": "markdown",
   "metadata": {},
   "source": [
    "# Element Class"
   ]
  },
  {
   "cell_type": "code",
   "execution_count": 229,
   "metadata": {},
   "outputs": [],
   "source": [
    "class Element:\n",
    "    def __init__(self, id, nodes):\n",
    "        self.id = id\n",
    "        self.nodes = nodes\n",
    "\n",
    "    def __repr__(self):\n",
    "        node_ids = [node.id for node in self.nodes]  \n",
    "        return f\"Element(id={self.id}, nodes={node_ids})\"\n",
    "    \n",
    "    def coordinates(self):\n",
    "        return np.array([(node.x, node.y) for node in self.nodes])\n",
    "    \n",
    "    def compute_E(self):\n",
    "        E = np.zeros([3,3])\n",
    "        E[0,0] = 1-v\n",
    "        E[0,1] = v\n",
    "        E[0,2] = 0\n",
    "        E[1,0] = v\n",
    "        E[1,1] = 1-v\n",
    "        E[0,2] = 0\n",
    "        E[2,0] = 0\n",
    "        E[2,1] = 0\n",
    "        E[2,2] = (1-2*v)/2\n",
    "        E = E * elastic_modulus / ((1+v)*(1-2*v))\n",
    "        return E\n",
    "\n",
    "    def compute_J(self, i_quad):\n",
    "        #define jacobian matrix at quadrature point i, j\n",
    "        j = np.zeros([2,2])\n",
    "        #get coordinates of the nodes \n",
    "        coords = self.coordinates()\n",
    "        x = coords[:,0]\n",
    "        y = coords[:,1]\n",
    "        #compute jacobian matrix elements\n",
    "        j[0,0] = np.dot(x, dN_d_xi[i_quad])\n",
    "        j[0,1] = np.dot(y, dN_d_xi[i_quad])\n",
    "        j[1,0] = np.dot(x, dN_d_eta[i_quad])\n",
    "        j[1,1] = np.dot(y, dN_d_eta[i_quad])\n",
    "        return j\n",
    "\n",
    "    def compute_B(self, i_quad, J_inv):\n",
    "        dN = np.zeros([4,2]) #derivative matrix, size = n_shape * n_dims\n",
    "        for i in range(4): #loop over shape functions\n",
    "            mat = np.array([dN_d_xi[i_quad,i], dN_d_eta[i_quad,i]])\n",
    "            dN[i] = np.matmul(J_inv, mat)\n",
    "        B = np.zeros([3,8])\n",
    "        B[0,0] = dN[0,0]\n",
    "        B[0,2] = dN[1,0]\n",
    "        B[0,4] = dN[2,0]\n",
    "        B[0,6] = dN[3,0]\n",
    "        B[1,1] = dN[0,1]\n",
    "        B[1,3] = dN[1,1]\n",
    "        B[1,5] = dN[2,1]\n",
    "        B[1,7] = dN[3,1]\n",
    "        B[2,0] = dN[0,1]\n",
    "        B[2,1] = dN[0,0]\n",
    "        B[2,2] = dN[1,1]\n",
    "        B[2,3] = dN[1,0]\n",
    "        B[2,4] = dN[2,1]\n",
    "        B[2,5] = dN[2,0]\n",
    "        B[2,6] = dN[3,1]\n",
    "        B[2,7] = dN[3,0]\n",
    "        return B\n",
    "    \n",
    "    def localStiffnessMatrix(self):\n",
    "        k = 0\n",
    "        E = self.compute_E()\n",
    "        for i in range(n_quad):\n",
    "            J = self.compute_J(i)\n",
    "            J_inv = np.linalg.inv(J)\n",
    "            det_J = np.linalg.det(J)\n",
    "            B = self.compute_B(i, J_inv)\n",
    "            BT = np.transpose(B)\n",
    "            k += BT @ E @ B * det_J * w[i]\n",
    "        return k\n",
    "    \n",
    "    def compute_stresses(self, D):\n",
    "        stress = np.zeros([n_quad, 3])\n",
    "        # Loop over the quadrature points\n",
    "        for i in range(n_quad):\n",
    "            J = self.compute_J(i)\n",
    "            J_inv = np.linalg.inv(J)\n",
    "            B = self.compute_B(i, J_inv)\n",
    "            # Get the displacements for the element (use D with the corresponding DOFs)\n",
    "            d = np.array([item for pair in zip([D[2 * (node.id - 1)] for node in self.nodes], [D[2 * (node.id - 1) + 1] for node in self.nodes]) \n",
    "                          for item in pair])\n",
    "            # Calculate the strain vector\n",
    "            strain = B @ d\n",
    "            # Compute the stress vector\n",
    "            E = self.compute_E()  \n",
    "            stress[i,:] = E @ strain\n",
    "        return stress  "
   ]
  },
  {
   "cell_type": "markdown",
   "metadata": {},
   "source": [
    "# Mesh class"
   ]
  },
  {
   "cell_type": "code",
   "execution_count": 230,
   "metadata": {},
   "outputs": [],
   "source": [
    "class Mesh:\n",
    "    def read_node_list(self, file_path):\n",
    "        nodes = []\n",
    "        node_section = False  # Flag to check if we are in the *Node section\n",
    "        with open(file_path, 'r') as file:\n",
    "            for line in file:\n",
    "                line = line.strip()\n",
    "                # Check for the start of the *Node section\n",
    "                if line.startswith('*Node'):\n",
    "                    node_section = True\n",
    "                    continue  # Skip the line that contains *Node header\n",
    "                # Start of element section, stop reading node\n",
    "                if node_section and line.startswith('*Element'): \n",
    "                    node_section = False\n",
    "                    break\n",
    "                # Skip the line if it is not a node data line\n",
    "                if not line or line.startswith('*') or not line[0].isdigit():\n",
    "                    continue\n",
    "                # If we are in the *Node section, process the node data\n",
    "                node_data = line.split(',')\n",
    "                node_id = int(node_data[0].strip())\n",
    "                x = float(node_data[1].strip())\n",
    "                y = float(node_data[2].strip())\n",
    "                # Create Node object and append to the list\n",
    "                node = Node(node_id, x, y)\n",
    "                nodes.append(node)\n",
    "        return nodes\n",
    "    \n",
    "    def read_element_list(self, file_path):\n",
    "        elements = []\n",
    "        element_section = False  # Flag to check if we are in the *Element section\n",
    "        with open(file_path, 'r') as file:\n",
    "            for line in file:\n",
    "                line = line.strip()\n",
    "                # Check for the start of the *Element section\n",
    "                if line.startswith('*Element'):\n",
    "                    element_section = True\n",
    "                    continue  # Skip the line that contains *Element header\n",
    "                # Stop reading elements\n",
    "                if element_section and line.startswith('*Nset'): \n",
    "                    element_section = False\n",
    "                    break\n",
    "                # Skip the line if it is not an element data line\n",
    "                if not line or line.startswith('*') or not line[0].isdigit() or not element_section:\n",
    "                    continue\n",
    "                # If we are in the *Element section, process the element data\n",
    "                element_data = line.split(',')\n",
    "                element_id = int(element_data[0].strip())\n",
    "                nodes = []\n",
    "                for i in range(1,5):\n",
    "                    node_id = int(element_data[i].strip())\n",
    "                    node_index = node_id - 1 #zero indexing shift\n",
    "                    nodes.append(self.nodes[node_index]) \n",
    "                # Create Element object and append to the list\n",
    "                element = Element(element_id, nodes)\n",
    "                elements.append(element)\n",
    "        return elements\n",
    "    \n",
    "    def __init__(self, file_path):\n",
    "        self.nodes = self.read_node_list(file_path)\n",
    "        self.elements = self.read_element_list(file_path)\n",
    "    \n",
    "    def plot_mesh(mesh):\n",
    "        plt.figure(figsize=(8, 6))\n",
    "        # Plot each element\n",
    "        for element in mesh.elements:\n",
    "            # Get the coordinates of the nodes\n",
    "            coords = np.array([(node.x, node.y) for node in element.nodes])\n",
    "            # Close the polygon by appending the first node again\n",
    "            coords = np.vstack([coords, coords[0]])\n",
    "            plt.plot(coords[:, 0], coords[:, 1], marker='o')\n",
    "        # Set labels and title\n",
    "        plt.title('Finite Element Mesh')\n",
    "        plt.xlabel('x(m)')\n",
    "        plt.ylabel('y(m)')\n",
    "        plt.axis('equal')\n",
    "        plt.grid(True)\n",
    "        plt.show()"
   ]
  },
  {
   "cell_type": "markdown",
   "metadata": {},
   "source": [
    "# Mesh Generation"
   ]
  },
  {
   "cell_type": "code",
   "execution_count": 231,
   "metadata": {},
   "outputs": [
    {
     "data": {
      "image/png": "[encoded data removed]",
      "text/plain": [
       "<Figure size 800x600 with 1 Axes>"
      ]
     },
     "metadata": {},
     "output_type": "display_data"
    }
   ],
   "source": [
    "file_path = 'input.inp'  \n",
    "mesh = Mesh(file_path)\n",
    "mesh.plot_mesh()"
   ]
  },
  {
   "cell_type": "markdown",
   "metadata": {},
   "source": [
    "# Assembly"
   ]
  },
  {
   "cell_type": "code",
   "execution_count": 232,
   "metadata": {},
   "outputs": [],
   "source": [
    "n_nodes = len(mesh.nodes)\n",
    "#Global stiffness matrix and global load vector\n",
    "K_global = np.zeros((2*n_nodes, 2*n_nodes))\n",
    "N_local_nodes = 4\n",
    "#loop over all elements\n",
    "for element in mesh.elements:\n",
    "    k_local = element.localStiffnessMatrix()\n",
    "    local_indices = [node.id - 1 for node in element.nodes] #adjust for zero indexing of global matrix\n",
    "    local_indices = np.multiply(2,local_indices) \n",
    "    local_indices = np.concatenate([np.arange(x, x+2) for x in local_indices]) #expand the indices for 2 dof\n",
    "    for i in range(2*N_local_nodes):\n",
    "        for j in range(2*N_local_nodes):\n",
    "            K_global[local_indices[i], local_indices[j]] += k_local[i,j]"
   ]
  },
  {
   "cell_type": "markdown",
   "metadata": {},
   "source": [
    "# Load"
   ]
  },
  {
   "cell_type": "code",
   "execution_count": 233,
   "metadata": {},
   "outputs": [],
   "source": [
    "R_global = np.zeros(2*n_nodes)\n",
    "R_global[6] = 18\n",
    "R_global[8] = 42\n",
    "R_global[9] = 333.0\n",
    "R_global[17] = 166.5\n",
    "R_global[19] = 499.5"
   ]
  },
  {
   "cell_type": "markdown",
   "metadata": {},
   "source": [
    "# Boundary Conditions"
   ]
  },
  {
   "cell_type": "code",
   "execution_count": 234,
   "metadata": {},
   "outputs": [],
   "source": [
    "i_zero_displacement = [0, 1, 3, 5, 7, 14, 16]\n",
    "ids = np.arange(0,20,1)\n",
    "mask = np.setdiff1d(ids, i_zero_displacement)"
   ]
  },
  {
   "cell_type": "markdown",
   "metadata": {},
   "source": [
    "# Solve "
   ]
  },
  {
   "cell_type": "code",
   "execution_count": 235,
   "metadata": {},
   "outputs": [],
   "source": [
    "K_reduced = np.delete(K_global, i_zero_displacement, 0)\n",
    "K_reduced = np.delete(K_reduced, i_zero_displacement, 1)\n",
    "R_reduced = np.delete(R_global, i_zero_displacement)\n",
    "D_reduced = np.linalg.solve(K_reduced,R_reduced)\n",
    "D = np.zeros(2*n_nodes) #full displacement vector\n",
    "D[mask] = D_reduced\n",
    "R = K_global @ D - R_global #reaction forces\n",
    "R[abs(R)<1.0e-10] = 0\n",
    "thickness = 0.005\n",
    "D = D/thickness"
   ]
  },
  {
   "cell_type": "markdown",
   "metadata": {},
   "source": [
    "# Output"
   ]
  },
  {
   "cell_type": "code",
   "execution_count": 236,
   "metadata": {},
   "outputs": [
    {
     "name": "stdout",
     "output_type": "stream",
     "text": [
      "Node ID    u_magnitude (m)      u_x (m)         u_y (m)        \n",
      "------------------------------------------------------------\n",
      "1          0                    0               0              \n",
      "2          1.93e-05             -1.93e-05       0              \n",
      "3          3.96e-05             -3.96e-05       0              \n",
      "4          6.13e-05             -6.13e-05       0              \n",
      "5          9.91e-05             -5.09e-05       8.5e-05        \n",
      "6          5.77e-05             -3.78e-05       4.37e-05       \n",
      "7          4.78e-05             -1.88e-05       4.39e-05       \n",
      "8          4.34e-05             0               4.34e-05       \n",
      "9          8.67e-05             0               8.67e-05       \n",
      "10         8.9e-05              -1.85e-05       8.71e-05       \n",
      "------------------------------------------------------------\n"
     ]
    }
   ],
   "source": [
    "#Displacements\n",
    "print(f\"{'Node ID':<10} {'u_magnitude (m)':<20} {'u_x (m)':<15} {'u_y (m)':<15}\")\n",
    "print(\"-\" * 60)\n",
    "for i in range(n_nodes):\n",
    "    j = 2*i    \n",
    "    k = 2*i+1  \n",
    "    u_x = f\"{D[j]:.3g}\" \n",
    "    u_y = f\"{D[k]:.3g}\"\n",
    "    u_m = np.sqrt(D[j]**2 + D[k]**2)\n",
    "    u_m_str = f\"{u_m:.3g}\"\n",
    "    print(f\"{i+1:<10} {u_m_str:<20} {u_x:<15} {u_y:<15}\")\n",
    "print('-' * 60)"
   ]
  },
  {
   "cell_type": "code",
   "execution_count": 237,
   "metadata": {},
   "outputs": [
    {
     "name": "stdout",
     "output_type": "stream",
     "text": [
      "Node ID    R_Magnitude (N)      R_x (N)         R_y (N)        \n",
      "------------------------------------------------------------\n",
      "1          169                  -15.1           -168           \n",
      "2          338                  0               -338           \n",
      "3          337                  0               -337           \n",
      "4          156                  0               -156           \n",
      "5          0                    0               0              \n",
      "6          0                    0               0              \n",
      "7          0                    0               0              \n",
      "8          30.2                 -30.2           0              \n",
      "9          14.7                 -14.7           0              \n",
      "10         0                    0               0              \n",
      "------------------------------------------------------------\n"
     ]
    }
   ],
   "source": [
    "#Reaction forces\n",
    "print(f\"{'Node ID':<10} {'R_Magnitude (N)':<20} {'R_x (N)':<15} {'R_y (N)':<15}\")\n",
    "print(\"-\" * 60)\n",
    "for i in range(n_nodes):\n",
    "    j = 2*i    \n",
    "    k = 2*i+1  \n",
    "    R_x = f\"{R[j]:.3g}\" \n",
    "    R_y = f\"{R[k]:.3g}\"\n",
    "    R_m = np.sqrt(R[j]**2 + R[k]**2)\n",
    "    R_m_str = f\"{R_m:.3g}\"\n",
    "    print(f\"{i+1:<10} {R_m_str:<20} {R_x:<15} {R_y:<15}\")\n",
    "print(\"-\" * 60)"
   ]
  },
  {
   "cell_type": "code",
   "execution_count": 238,
   "metadata": {},
   "outputs": [
    {
     "name": "stdout",
     "output_type": "stream",
     "text": [
      "Element ID      Quad Point      S11 (Pa)       S22 (Pa)       \n",
      "------------------------------------------------------------\n",
      "1               1               2.47e+06       2.03e+07\n",
      "1               2               2.39e+06       2.02e+07\n",
      "1               3               2.29e+06       2.01e+07\n",
      "1               4               2.36e+06       2.03e+07\n",
      "2               1               2.32e+06       2.02e+07\n",
      "2               2               2.35e+06       2.03e+07\n",
      "2               3               2.04e+06       2.02e+07\n",
      "2               4               2.00e+06       2.01e+07\n",
      "3               1               2.27e+06       1.97e+07\n",
      "3               2               3.00e+06       2.03e+07\n",
      "3               3               1.67e+06       1.97e+07\n",
      "3               4               1.37e+06       1.93e+07\n",
      "4               1               3.13e+06       2.00e+07\n",
      "4               2               3.24e+06       2.03e+07\n",
      "4               3               2.62e+06       2.00e+07\n",
      "4               4               2.45e+06       1.96e+07\n",
      "5               1               2.44e+06       2.00e+07\n",
      "5               2               2.47e+06       2.01e+07\n",
      "5               3               2.40e+06       2.01e+07\n",
      "5               4               2.37e+06       2.00e+07\n",
      "------------------------------------------------------------\n"
     ]
    }
   ],
   "source": [
    "#Stresses\n",
    "print(f\"{'Element ID':<15} {'Quad Point':<15} {'S11 (Pa)':<14} {'S22 (Pa)':<15}\")\n",
    "print(\"-\" * 60)\n",
    "# Loop over each element\n",
    "for element in mesh.elements:\n",
    "    stress = element.compute_stresses(D)  \n",
    "    # Loop over each quadrature point \n",
    "    for quad_id in range(stress.shape[0]):\n",
    "        S11 = stress[quad_id, 0]\n",
    "        S22 = stress[quad_id, 1]\n",
    "        print(f\"{element.id:<15} {quad_id+1:<15} {S11:.2e} {'':<5} {S22:.2e}\")\n",
    "print(\"-\" * 60)"
   ]
  }
 ],
 "metadata": {
  "kernelspec": {
   "display_name": "base",
   "language": "python",
   "name": "python3"
  },
  "language_info": {
   "codemirror_mode": {
    "name": "ipython",
    "version": 3
   },
   "file_extension": ".py",
   "mimetype": "text/x-python",
   "name": "python",
   "nbconvert_exporter": "python",
   "pygments_lexer": "ipython3",
   "version": "3.10.14"
  }
 },
 "nbformat": 4,
 "nbformat_minor": 2
}
