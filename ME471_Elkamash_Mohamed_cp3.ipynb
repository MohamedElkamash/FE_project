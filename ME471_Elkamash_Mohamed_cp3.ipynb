{
 "cells": [
  {
   "cell_type": "markdown",
   "metadata": {},
   "source": [
    "# Libraries"
   ]
  },
  {
   "cell_type": "code",
   "execution_count": 1,
   "metadata": {},
   "outputs": [],
   "source": [
    "import numpy as np\n",
    "import matplotlib.pyplot as plt"
   ]
  },
  {
   "cell_type": "markdown",
   "metadata": {},
   "source": [
    "# Inputs"
   ]
  },
  {
   "cell_type": "code",
   "execution_count": 2,
   "metadata": {},
   "outputs": [],
   "source": [
    "#Node table\n",
    "#key = node id, value = (x,y)\n",
    "node_table = {\n",
    "    1:  (0,0),\n",
    "    2:  (0,1),\n",
    "    3:  (0,2),\n",
    "    4:  (1,0),\n",
    "    5:  (1,0.5),\n",
    "    6:  (1,1.5),\n",
    "    7:  (1,2),\n",
    "    8:  (2,0),\n",
    "    9:  (2,1),\n",
    "    10: (2,2),\n",
    "    11: (3,0),\n",
    "    12: (3,0.5),\n",
    "    13: (3,1.5),\n",
    "    14: (3,2)\n",
    "}"
   ]
  },
  {
   "cell_type": "code",
   "execution_count": 3,
   "metadata": {},
   "outputs": [],
   "source": [
    "#Connectivity table\n",
    "#key = element id, value = (node1_id, node2_id, node3_id)\n",
    "connectivity_table = {\n",
    "    1:  (1,2,5),\n",
    "    2:  (2,3,6),\n",
    "    3:  (2,5,6),\n",
    "    4:  (1,4,5),\n",
    "    5:  (3,6,7),\n",
    "    6:  (6,7,10),\n",
    "    7:  (6,9,10),\n",
    "    8:  (5,6,9),\n",
    "    9:  (5,8,9),\n",
    "    10: (4,5,8),\n",
    "    11: (8,11,12),\n",
    "    12: (8,9,12),\n",
    "    13: (9,12,13),\n",
    "    14: (9,10,13),\n",
    "    15: (10,13,14)\n",
    "}"
   ]
  },
  {
   "cell_type": "code",
   "execution_count": 4,
   "metadata": {},
   "outputs": [],
   "source": [
    "#Temperature boundary conditions\n",
    "#key = node id, value = node temperature\n",
    "boundary_temperatures = {\n",
    "    1:  200,\n",
    "    2:  200,\n",
    "    3:  200,\n",
    "    11: 25,\n",
    "    12: 25,\n",
    "    13: 25,\n",
    "    14: 25\n",
    "}\n",
    "\n",
    "#Flux boundary conditions\n",
    "#key = node id, value = node flux\n",
    "boundary_fluxes = {\n",
    "    4:  0,\n",
    "    7:  0,\n",
    "    8:  0,\n",
    "    10: 0\n",
    "}"
   ]
  },
  {
   "cell_type": "code",
   "execution_count": 5,
   "metadata": {},
   "outputs": [],
   "source": [
    "#Parameters\n",
    "k = 45 #Thermal conductivity\n",
    "Q = 0  #Heat source"
   ]
  },
  {
   "cell_type": "markdown",
   "metadata": {},
   "source": [
    "# Classes"
   ]
  },
  {
   "cell_type": "code",
   "execution_count": 6,
   "metadata": {},
   "outputs": [],
   "source": [
    "class Node:\n",
    "    def __init__(self, id, x, y, T=None, q=None):\n",
    "        self.id = id\n",
    "        self.x  = x\n",
    "        self.y  = y\n",
    "        self.T  = T\n",
    "        self.q  = q\n",
    "    \n",
    "    def __repr__(self):\n",
    "        return f\"Node({self.id}, x={self.x}, y={self.y}, T={self.T})\"\n",
    "    \n",
    "    def setTemperature(self, T):\n",
    "        self.T = T\n",
    "    \n",
    "    def setFlux(self, q):\n",
    "        self.q = q"
   ]
  },
  {
   "cell_type": "code",
   "execution_count": 7,
   "metadata": {},
   "outputs": [],
   "source": [
    "class Element:\n",
    "    def __init__(self, id, nodes):\n",
    "        self.id = id\n",
    "        self.nodes = nodes\n",
    "        self.coords = self.coordinates()  \n",
    "\n",
    "    def __repr__(self):\n",
    "        node_ids = [node.id for node in self.nodes]  \n",
    "        return f\"Element(id={self.id}, nodes={node_ids})\"\n",
    "    \n",
    "    def coordinates(self):\n",
    "        return np.array([(node.x, node.y) for node in self.nodes])\n",
    "    \n",
    "    def area(self):\n",
    "        # Use stored coords\n",
    "        area_array = np.array([\n",
    "            [1, self.coords[0, 0], self.coords[0, 1]],\n",
    "            [1, self.coords[1, 0], self.coords[1, 1]],\n",
    "            [1, self.coords[2, 0], self.coords[2, 1]]\n",
    "        ])\n",
    "        return 0.5 * np.abs(np.linalg.det(area_array))\n",
    "    \n",
    "    def B(self):\n",
    "        b1 = self.coords[1, 1] - self.coords[2, 1]\n",
    "        b2 = self.coords[2, 1] - self.coords[0, 1]\n",
    "        b3 = self.coords[0, 1] - self.coords[1, 1]\n",
    "        c1 = self.coords[2, 0] - self.coords[1, 0]\n",
    "        c2 = self.coords[0, 0] - self.coords[2, 0]\n",
    "        c3 = self.coords[1, 0] - self.coords[0, 0]\n",
    "        return np.array([[b1, b2, b3], [c1, c2, c3]])\n",
    "    \n",
    "    def localStiffnessMatrix(self):\n",
    "        return k * 1 / (4 * self.area()) * self.B().T @ self.B()"
   ]
  },
  {
   "cell_type": "code",
   "execution_count": 8,
   "metadata": {},
   "outputs": [],
   "source": [
    "class Mesh:\n",
    "    def __init__(self, nodes, elements):\n",
    "        self.nodes = nodes\n",
    "        self.elements = elements\n",
    "    \n",
    "    def plot_mesh(mesh, display_temp=False):\n",
    "        plt.figure(figsize=(8, 6))\n",
    "        \n",
    "        # Plot each element\n",
    "        for element in mesh.elements.values():\n",
    "            # Get the coordinates of the nodes\n",
    "            coords = np.array([(node.x, node.y) for node in element.nodes])\n",
    "            # Close the polygon by appending the first node again\n",
    "            coords = np.vstack([coords, coords[0]])\n",
    "            plt.plot(coords[:, 0], coords[:, 1], marker='o')\n",
    "\n",
    "        #Plot boundary temperatures\n",
    "        if display_temp == True:\n",
    "            for node_id, node in mesh.nodes.items():\n",
    "                temp = node.T\n",
    "                node = mesh.nodes[node_id]\n",
    "                plt.text(node.x, node.y, f'T={temp:.3g}', fontsize=9, ha='right')\n",
    "\n",
    "        # Set labels and title\n",
    "        plt.title('Finite Element Mesh')\n",
    "        plt.xlabel('x(m)')\n",
    "        plt.ylabel('y(m)')\n",
    "        plt.axis('equal')\n",
    "        plt.grid(True)\n",
    "        plt.show()"
   ]
  },
  {
   "cell_type": "markdown",
   "metadata": {},
   "source": [
    "# Mesh Generation"
   ]
  },
  {
   "cell_type": "code",
   "execution_count": 9,
   "metadata": {},
   "outputs": [
    {
     "data": {
      "image/png": "[encoded data removed]",
      "text/plain": [
       "<Figure size 800x600 with 1 Axes>"
      ]
     },
     "metadata": {},
     "output_type": "display_data"
    }
   ],
   "source": [
    "#mesh generation\n",
    "n_nodes = len(node_table)\n",
    "n_elements = len(connectivity_table)\n",
    "n_nodes_per_element = 3\n",
    "nodes = {}\n",
    "elements = {}\n",
    "\n",
    "#generate nodes\n",
    "for node_id, coordinates in node_table.items():\n",
    "    nodes[node_id] = Node(node_id, coordinates[0], coordinates[1]) \n",
    "\n",
    "#generate elements  \n",
    "for element_id, nodes_ids in connectivity_table.items():\n",
    "    element_nodes = []\n",
    "    for node_id in nodes_ids:\n",
    "        element_nodes.append(nodes[node_id])\n",
    "    elements[element_id] = Element(element_id, element_nodes)\n",
    "\n",
    "#generate mesh\n",
    "mesh = Mesh(nodes, elements)\n",
    "#plot mesh\n",
    "mesh.plot_mesh()"
   ]
  },
  {
   "cell_type": "markdown",
   "metadata": {},
   "source": [
    "# Assembly"
   ]
  },
  {
   "cell_type": "code",
   "execution_count": 10,
   "metadata": {},
   "outputs": [],
   "source": [
    "#Global stiffness matrix and global load vector\n",
    "K_global = np.zeros((n_nodes, n_nodes))\n",
    "R_global = np.zeros(n_nodes)\n",
    "N_local_nodes = 3\n",
    "#loop over all elements\n",
    "for element in mesh.elements.values():\n",
    "    k_local = element.localStiffnessMatrix()\n",
    "    local_indices = [node.id - 1 for node in element.nodes] #adjust for zero indexing of global matrix\n",
    "\n",
    "    for i in range(N_local_nodes):\n",
    "        for j in range(N_local_nodes):\n",
    "            K_global[local_indices[i], local_indices[j]] += k_local[i,j]"
   ]
  },
  {
   "cell_type": "markdown",
   "metadata": {},
   "source": [
    "# Boundary Conditions"
   ]
  },
  {
   "cell_type": "code",
   "execution_count": 11,
   "metadata": {},
   "outputs": [],
   "source": [
    "#Dirchlet\n",
    "n_dirichlet_nodes = len(boundary_temperatures)\n",
    "node_ids = np.arange(0, n_nodes)\n",
    "dirchlet_node_ids =  np.array(list(boundary_temperatures.keys())) - 1  #adjust for zero indexing\n",
    "non_dirichlet_node_ids = np.setdiff1d(node_ids, dirchlet_node_ids)\n",
    "n_dirchlet_node_ids = len(dirchlet_node_ids)\n",
    "n_interior_nodes = n_nodes - n_dirchlet_node_ids\n",
    "#reducing global stiffness matrix\n",
    "reduced_K_global = np.zeros((n_interior_nodes, n_interior_nodes))\n",
    "temporary_K_global = np.delete(K_global, dirchlet_node_ids, 0) #remove rows\n",
    "reduced_K_global = np.delete(temporary_K_global, dirchlet_node_ids, 1) #remove columns \n",
    "reduced_R_global = np.delete(R_global, dirchlet_node_ids)\n",
    "\n",
    "R_modifier = np.zeros(n_nodes)\n",
    "#modifying global load vector with boundary temperatures\n",
    "for node_id, temperature in boundary_temperatures.items():\n",
    "    node_id -= 1 #adjust for zero indexing\n",
    "    R_modifier += K_global[:,node_id] * temperature\n",
    "\n",
    "reduced_R_global -= np.delete(R_modifier, dirchlet_node_ids)"
   ]
  },
  {
   "cell_type": "markdown",
   "metadata": {},
   "source": [
    "# Solve"
   ]
  },
  {
   "cell_type": "code",
   "execution_count": 12,
   "metadata": {},
   "outputs": [],
   "source": [
    "unkown_temperatures = np.linalg.solve(reduced_K_global, reduced_R_global) #solve for unkown temperatures\n",
    "#construct full temperature vector\n",
    "temperature = np.zeros(n_nodes)\n",
    "i = 0\n",
    "for node_id in non_dirichlet_node_ids:\n",
    "    temperature[node_id] = unkown_temperatures[i]\n",
    "    i += 1\n",
    "#add boundary temperatures to full temperature vector\n",
    "for node_id, boundary_temperature in boundary_temperatures.items():\n",
    "    node_id -= 1 #adjust for zero indexing\n",
    "    temperature[node_id] = boundary_temperature\n",
    "\n",
    "for node in mesh.nodes.values():\n",
    "    node.setTemperature(temperature[node.id-1])"
   ]
  },
  {
   "cell_type": "markdown",
   "metadata": {},
   "source": [
    "# Output"
   ]
  },
  {
   "cell_type": "code",
   "execution_count": 13,
   "metadata": {},
   "outputs": [
    {
     "name": "stdout",
     "output_type": "stream",
     "text": [
      "Node ID    Temperature (degC)\n",
      "-------------------------\n",
      "1          200            \n",
      "2          200            \n",
      "3          200            \n",
      "4          142            \n",
      "5          142            \n",
      "6          142            \n",
      "7          142            \n",
      "8          83.3           \n",
      "9          83.3           \n",
      "10         83.3           \n",
      "11         25             \n",
      "12         25             \n",
      "13         25             \n",
      "14         25             \n"
     ]
    },
    {
     "data": {
      "image/png": "[encoded data removed]",
      "text/plain": [
       "<Figure size 800x600 with 1 Axes>"
      ]
     },
     "metadata": {},
     "output_type": "display_data"
    }
   ],
   "source": [
    "print(f\"{'Node ID':<10} {'Temperature (degC)':<15}\")\n",
    "print(\"-\" * 25)\n",
    "for node_id, node in mesh.nodes.items():\n",
    "    temp_formatted = f\"{mesh.nodes[node_id].T:.3g}\"  # .3g for 3 significant figures\n",
    "    print(f\"{node_id:<10} {temp_formatted:<15}\")\n",
    "mesh.plot_mesh(display_temp=True)"
   ]
  }
 ],
 "metadata": {
  "kernelspec": {
   "display_name": "base",
   "language": "python",
   "name": "python3"
  },
  "language_info": {
   "codemirror_mode": {
    "name": "ipython",
    "version": 3
   },
   "file_extension": ".py",
   "mimetype": "text/x-python",
   "name": "python",
   "nbconvert_exporter": "python",
   "pygments_lexer": "ipython3",
   "version": "3.10.14"
  }
 },
 "nbformat": 4,
 "nbformat_minor": 2
}
